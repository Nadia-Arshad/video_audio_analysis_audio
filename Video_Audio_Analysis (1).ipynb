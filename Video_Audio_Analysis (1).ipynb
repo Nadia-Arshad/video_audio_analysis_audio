{
  "nbformat": 4,
  "nbformat_minor": 0,
  "metadata": {
    "colab": {
      "provenance": []
    },
    "kernelspec": {
      "name": "python3",
      "display_name": "Python 3"
    },
    "language_info": {
      "name": "python"
    }
  },
  "cells": [
    {
      "cell_type": "code",
      "source": [
        "!pip install --upgrade --quiet google.genai\n"
      ],
      "metadata": {
        "id": "SwG73PvCL5vh"
      },
      "execution_count": 1,
      "outputs": []
    },
    {
      "cell_type": "code",
      "source": [
        "!pip install gTTS --quiet\n"
      ],
      "metadata": {
        "id": "dHzL2XT4L4b2"
      },
      "execution_count": 2,
      "outputs": []
    },
    {
      "cell_type": "code",
      "source": [
        "!pip install playsound\n"
      ],
      "metadata": {
        "colab": {
          "base_uri": "https://localhost:8080/"
        },
        "collapsed": true,
        "id": "3kXXyZrrL2oG",
        "outputId": "906fdf7e-e226-4c9a-afec-4b4f2d693dc0"
      },
      "execution_count": 3,
      "outputs": [
        {
          "output_type": "stream",
          "name": "stdout",
          "text": [
            "Collecting playsound\n",
            "  Downloading playsound-1.3.0.tar.gz (7.7 kB)\n",
            "  Preparing metadata (setup.py) ... \u001b[?25l\u001b[?25hdone\n",
            "Building wheels for collected packages: playsound\n",
            "  Building wheel for playsound (setup.py) ... \u001b[?25l\u001b[?25hdone\n",
            "  Created wheel for playsound: filename=playsound-1.3.0-py3-none-any.whl size=7020 sha256=2c34ad5967e8b2dc039b417879ea83d045e4642b6431ff8d55f426e3ffa3a406\n",
            "  Stored in directory: /root/.cache/pip/wheels/90/89/ed/2d643f4226fc8c7c9156fc28abd8051e2d2c0de37ae51ac45c\n",
            "Successfully built playsound\n",
            "Installing collected packages: playsound\n",
            "Successfully installed playsound-1.3.0\n"
          ]
        }
      ]
    },
    {
      "cell_type": "code",
      "source": [
        "import google.generativeai as genai\n"
      ],
      "metadata": {
        "id": "VdstFvwJL1WD"
      },
      "execution_count": 4,
      "outputs": []
    },
    {
      "cell_type": "code",
      "source": [
        "from google.colab import userdata\n",
        "GEMINI_API_KEY: str = userdata.get('AGENTIC_AI_KEY')\n",
        "if(GEMINI_API_KEY):\n",
        "  print(\"API Key found\")\n",
        "else:\n",
        "  print(\"API Key not found\")\n",
        ""
      ],
      "metadata": {
        "colab": {
          "base_uri": "https://localhost:8080/"
        },
        "id": "R-DFIwa9Ly9o",
        "outputId": "fff4a5a8-f0b0-4d72-eda1-92e529827e21"
      },
      "execution_count": 5,
      "outputs": [
        {
          "output_type": "stream",
          "name": "stdout",
          "text": [
            "API Key found\n"
          ]
        }
      ]
    },
    {
      "cell_type": "code",
      "source": [
        "from google import genai\n",
        "from google.genai import Client\n",
        "\n",
        "client: Client = genai.Client(\n",
        "    api_key=GEMINI_API_KEY,\n",
        ")\n",
        "\n",
        "model: str =\"gemini-2.0-flash-exp\"\n"
      ],
      "metadata": {
        "id": "MEIJSQgxLwN5"
      },
      "execution_count": 6,
      "outputs": []
    },
    {
      "cell_type": "code",
      "source": [
        "video_file_name = \"/content/Introduction_video.mp4\"\n"
      ],
      "metadata": {
        "id": "JpzAIYqaLuGo"
      },
      "execution_count": 7,
      "outputs": []
    },
    {
      "cell_type": "code",
      "source": [
        "import time\n",
        "\n",
        "def upload_video(video_file_name):\n",
        "  video_file = client.files.upload(path=video_file_name)\n",
        "  while video_file.state == \"PROCESSING\":\n",
        "      print('Waiting for video to be processed.')\n",
        "      time.sleep(10)\n",
        "      video_file = client.files.get(name=video_file.name or \"\")\n",
        "\n",
        "  if video_file.state == \"FAILED\":\n",
        "    raise ValueError(video_file.state)\n",
        "  print(f'Video processing complete: ' + (video_file.uri or \"\"))\n",
        "\n",
        "  return video_file\n",
        "\n",
        "my_video = upload_video(video_file_name)\n"
      ],
      "metadata": {
        "colab": {
          "base_uri": "https://localhost:8080/"
        },
        "id": "rYFeGFp5LrKk",
        "outputId": "eb38dbda-9779-457e-ecac-6e32407d476e"
      },
      "execution_count": 8,
      "outputs": [
        {
          "output_type": "stream",
          "name": "stdout",
          "text": [
            "Waiting for video to be processed.\n",
            "Video processing complete: https://generativelanguage.googleapis.com/v1beta/files/7vqut8ugnsjn\n"
          ]
        }
      ]
    },
    {
      "cell_type": "code",
      "source": [
        "from google.genai.types import Content, Part\n",
        "prompt = \"\"\"For each scene in this video,\n",
        "            generate captions that describe the scene along with any spoken text placed in quotation marks.\n",
        "            Place each caption into an object with the timecode of the caption in the video.\n",
        "            Finally do the same thing but give your response in Spanish.\n",
        "         \"\"\"\n",
        "\n",
        "video = my_video\n",
        "\n",
        "response = client.models.generate_content(\n",
        "    model=model,\n",
        "    contents=[\n",
        "        Content(\n",
        "            role=\"user\",\n",
        "            parts=[\n",
        "                Part.from_uri(\n",
        "                    file_uri=video.uri or \"\",\n",
        "                    mime_type=video.mime_type or \"\"),\n",
        "                ]),\n",
        "        prompt,\n",
        "    ]\n",
        ")\n",
        "print(response.text)\n"
      ],
      "metadata": {
        "colab": {
          "base_uri": "https://localhost:8080/"
        },
        "id": "fcns6yRKLhyD",
        "outputId": "465195ce-c6c0-4569-fef2-b6e015c3d09e"
      },
      "execution_count": 9,
      "outputs": [
        {
          "output_type": "stream",
          "name": "stdout",
          "text": [
            "Certainly! Here are the captions for the video, first in English and then in Spanish, structured as you requested:\n",
            "\n",
            "**English Captions:**\n",
            "\n",
            "```json\n",
            "{\n",
            "  \"0:00\": {\n",
            "    \"caption\": \"A woman with shoulder-length black hair and a pink sweater is seated and speaking, while in the background there is a wall, some plants, a bed and a window with a curtain. She says, “Hi, my name is Nadia, and I am a PIAIC student.”\"\n",
            "   },\n",
            "  \"0:04\": {\n",
            "    \"caption\": \"She continues speaking: “It's my first time learning uh technology, but I'm really loving it.”\"\n",
            "  },\n",
            "  \"0:09\": {\n",
            "    \"caption\": \"She is still speaking: “I am passionate about, um, tech field.”\"\n",
            "  },\n",
            "  \"0:15\": {\n",
            "    \"caption\": \"She goes on saying: “Though I thought it something that that might be difficult, but I'm enjoying it, so far.”\"\n",
            "  },\n",
            " \"0:21\": {\n",
            "    \"caption\": \"She finishes by saying: “So, thank you very much PIAIC team for your help and support, and I think this is going to be a turning point in my life, learning and, uh…”\"\n",
            "  }\n",
            "}\n",
            "```\n",
            "\n",
            "**Spanish Captions:**\n",
            "\n",
            "```json\n",
            "{\n",
            "  \"0:00\": {\n",
            "    \"caption\": \"Una mujer con cabello negro hasta los hombros y un suéter rosa está sentada y hablando, mientras que en el fondo hay una pared, algunas plantas, una cama y una ventana con una cortina. Ella dice: “Hola, mi nombre es Nadia y soy estudiante de PIAIC.”\"\n",
            "   },\n",
            "  \"0:04\": {\n",
            "    \"caption\": \"Ella sigue hablando: “Es mi primera vez aprendiendo uh tecnología, pero realmente me está encantando.”\"\n",
            "  },\n",
            "  \"0:09\": {\n",
            "    \"caption\": \"Ella sigue hablando: “Me apasiona, um, el campo de la tecnología.”\"\n",
            "  },\n",
            "  \"0:15\": {\n",
            "    \"caption\": \"Ella continúa diciendo: “Aunque pensé que era algo que podría ser difícil, pero lo estoy disfrutando, hasta ahora.”\"\n",
            "  },\n",
            " \"0:21\": {\n",
            "    \"caption\": \"Ella termina diciendo: “Entonces, muchas gracias equipo de PIAIC por su ayuda y apoyo, y creo que este va a ser un punto de inflexión en mi vida, aprendiendo y, uh…”\"\n",
            "  }\n",
            "}\n",
            "```\n",
            "\n",
            "Let me know if you have any other requests!\n"
          ]
        }
      ]
    },
    {
      "cell_type": "code",
      "source": [
        "!pip install pygobject"
      ],
      "metadata": {
        "colab": {
          "base_uri": "https://localhost:8080/"
        },
        "id": "H8UTQp5UOfcB",
        "outputId": "22cc07f1-67c9-4824-9d48-b7f63234bcb8"
      },
      "execution_count": 12,
      "outputs": [
        {
          "output_type": "stream",
          "name": "stdout",
          "text": [
            "Requirement already satisfied: pygobject in /usr/lib/python3/dist-packages (3.42.1)\n",
            "Collecting pycairo>=1.16.0 (from pygobject)\n",
            "  Downloading pycairo-1.27.0.tar.gz (661 kB)\n",
            "\u001b[2K     \u001b[90m━━━━━━━━━━━━━━━━━━━━━━━━━━━━━━━━━━━━━━━━\u001b[0m \u001b[32m661.5/661.5 kB\u001b[0m \u001b[31m9.2 MB/s\u001b[0m eta \u001b[36m0:00:00\u001b[0m\n",
            "\u001b[?25h  Installing build dependencies ... \u001b[?25l\u001b[?25hdone\n",
            "  Getting requirements to build wheel ... \u001b[?25l\u001b[?25hdone\n",
            "  Installing backend dependencies ... \u001b[?25l\u001b[?25hdone\n",
            "  \u001b[1;31merror\u001b[0m: \u001b[1msubprocess-exited-with-error\u001b[0m\n",
            "  \n",
            "  \u001b[31m×\u001b[0m \u001b[32mPreparing metadata \u001b[0m\u001b[1;32m(\u001b[0m\u001b[32mpyproject.toml\u001b[0m\u001b[1;32m)\u001b[0m did not run successfully.\n",
            "  \u001b[31m│\u001b[0m exit code: \u001b[1;36m1\u001b[0m\n",
            "  \u001b[31m╰─>\u001b[0m See above for output.\n",
            "  \n",
            "  \u001b[1;35mnote\u001b[0m: This error originates from a subprocess, and is likely not a problem with pip.\n",
            "  Preparing metadata (pyproject.toml) ... \u001b[?25l\u001b[?25herror\n",
            "\u001b[1;31merror\u001b[0m: \u001b[1mmetadata-generation-failed\u001b[0m\n",
            "\n",
            "\u001b[31m×\u001b[0m Encountered error while generating package metadata.\n",
            "\u001b[31m╰─>\u001b[0m See above for output.\n",
            "\n",
            "\u001b[1;35mnote\u001b[0m: This is an issue with the package mentioned above, not pip.\n",
            "\u001b[1;36mhint\u001b[0m: See above for details.\n"
          ]
        }
      ]
    },
    {
      "cell_type": "code",
      "source": [
        "from gtts import gTTS\n",
        "from playsound import playsound\n",
        "from IPython.display import Audio\n",
        "\n",
        "\n",
        "# ... (Your code to extract text from the response) ...\n",
        "\n",
        "tts = gTTS(text= \"\\\"Hi my name is Nadia. I am a student at PIAIC and I am passionate about learning Tech and AI.\\\"\"\n",
        "\n",
        ", lang='es')  # Create a gTTS object with the extracted text\n",
        "\n",
        "# Save the audio to a file\n",
        "with open(\"output.mp3\", \"wb\") as f:\n",
        "    for chunk in tts.stream():\n",
        "        f.write(chunk)\n",
        "\n",
        "# Play the audio using IPython.display Audio to ensure it works in Colab\n",
        "# This is more reliable than playsound in Colab environments.\n",
        "display(Audio(\"output.mp3\", autoplay=True))\n",
        ""
      ],
      "metadata": {
        "id": "BOEI2G6gP0T6"
      },
      "execution_count": null,
      "outputs": []
    }
  ]
}